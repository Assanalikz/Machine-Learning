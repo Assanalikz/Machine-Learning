{
 "cells": [
  {
   "cell_type": "code",
   "execution_count": 26,
   "metadata": {},
   "outputs": [
    {
     "name": "stdout",
     "output_type": "stream",
     "text": [
      "the correlation is 0.9689241434264317\n",
      "1.5849802371541502\n",
      "16.07114624505929\n"
     ]
    },
    {
     "data": {
      "image/png": "[encoded data removed]",
      "text/plain": [
       "<Figure size 432x288 with 1 Axes>"
      ]
     },
     "metadata": {
      "needs_background": "light"
     },
     "output_type": "display_data"
    },
    {
     "name": "stdout",
     "output_type": "stream",
     "text": [
      "[1.58498024]\n",
      "16.07114624505929\n"
     ]
    }
   ],
   "source": [
    "import pandas as pd\n",
    "import numpy as np\n",
    "import matplotlib.pyplot as plt\n",
    "from sklearn.linear_model import LinearRegression\n",
    "from sklearn.metrics import r2_score\n",
    "import statsmodels.api as sm\n",
    "import math\n",
    "\n",
    "\n",
    "x = np.array([5,3,4,10,15])\n",
    "y = np.array([25,20,21,35,38])\n",
    "\n",
    "sumx = sum(x)\n",
    "sumy = sum(y)\n",
    "sqsumofx = x[0] ** 2 + x[1] ** 2 + x[2] ** 2 + x[3] ** 2 + x[4] ** 2\n",
    "sqsumofy = y[0] ** 2 + y[1] ** 2 + y[2] ** 2 + y[3] ** 2 + y[4] ** 2\n",
    "xy = x[0] * y[0] + x[1] * y[1] + x[2] * y[2] + x[3] * y[3] + x[4] * y[4]\n",
    "correlation = (5 * xy - sumx * sumy) / (math.sqrt(5 * sqsumofx - sumx ** 2) * math.sqrt(5 * sqsumofy - sumy ** 2))\n",
    "m = (5 * xy - sumx * sumy) / (5 * sqsumofx - sumx ** 2)\n",
    "b = (sumy / 5) - m * (sumx / 5)\n",
    "#Graphing Linear Regression \n",
    "# y = mx + b \n",
    "\n",
    "print('the correlation is', correlation)\n",
    "print(m)\n",
    "print(b)\n",
    "linreg = LinearRegression()\n",
    "x = x.reshape(-1, 1)\n",
    "linreg.fit(x, y)\n",
    "y_pred = linreg.predict(x)\n",
    "plt.scatter(x, y)\n",
    "plt.plot(x, y_pred, color = 'black')\n",
    "plt.show()\n",
    "print(linreg.coef_)\n",
    "print(linreg.intercept_)\n",
    "\n"
   ]
  },
  {
   "cell_type": "code",
   "execution_count": null,
   "metadata": {},
   "outputs": [],
   "source": [
    "plt.figure(figsize=(16, 8))\n",
    "plt.scatter(x, y,\n",
    "    c='red',\n",
    "    linewidth=2\n",
    ")\n",
    "plt.xlabel(\"Money spent on TV ads ($)\")\n",
    "plt.ylabel(\"Sales ($)\")\n",
    "plt.show()"
   ]
  }
 ],
 "metadata": {
  "kernelspec": {
   "display_name": "Python 3",
   "language": "python",
   "name": "python3"
  },
  "language_info": {
   "codemirror_mode": {
    "name": "ipython",
    "version": 3
   },
   "file_extension": ".py",
   "mimetype": "text/x-python",
   "name": "python",
   "nbconvert_exporter": "python",
   "pygments_lexer": "ipython3",
   "version": "3.7.3"
  }
 },
 "nbformat": 4,
 "nbformat_minor": 4
}
